{
 "cells": [
  {
   "cell_type": "markdown",
   "id": "503cea4b",
   "metadata": {},
   "source": [
    "# Project\n",
    "Explanatory data visualisation which makes use of:\n",
    "- Information design principles: data-ink ratio\n",
    "- Creation of storytelling data visualizations\n",
    "- Gestalt principles of design\n",
    "- Pre-attentive attributes of design\n",
    "\n",
    "# Dataset \n",
    "\n",
    "### Daily Exchange Rates per Euro 1999-2021\n",
    "Source: [kaggle](https://www.kaggle.com/lsind18/euro-exchange-daily-rates-19992020 \"Daily Exchange Rates per Euro 1999-2021\")\n",
    "\n",
    "Reference rates are euro foreign exchange rates observed on major foreign exchange trading venues at a certain point in time = they are the price of one currency in terms of another currency. The rates are usually updated around 16:00 CET on every working day, except on TARGET closing days.\n",
    "\n",
    "Dataset contains date and Euro rate corresponding to Australian dollar, Bulgarian lev, Brazilian real, Canadian dollar, Swiss franc, Chinese yuan renminbi, Cypriot pound, Czech koruna, Danish krone, Estonian kroon, UK pound sterling, Greek drachma, Hong Kong dollar, Croatian kuna, Hungarian forint, Indonesian rupiah, Israeli shekel, Indian rupee, Iceland krona, Japanese yen, Korean won, Lithuanian litas, Latvian lats, Maltese lira, Mexican peso, Malaysian ringgit, Norwegian krone, New Zealand dollar, Philippine peso, Polish zloty, Romanian leu, Russian rouble, Swedish krona, Singapore dollar, Slovenian tolar, Slovak koruna, Thai baht, Turkish lira, US dollar, South African rand.\n",
    "\n",
    "- Some currency in the list doesn't exist anymore; it was replaced by the Euro €: Cypriot pound (2007), Estonian kroon (2011), Greek drachma (2002), Lithuanian litas (2015), Latvian lats (2014), Maltese lira (2008), Slovenian tolar (2007), Slovak koruna (2009). \n",
    "- Bulgarian lev since 2002 is pegged to the Euro: 1 € = 1.9558 leva."
   ]
  },
  {
   "cell_type": "code",
   "execution_count": 57,
   "id": "5e0479f5",
   "metadata": {},
   "outputs": [],
   "source": [
    "import pandas as pd\n",
    "import matplotlib.pyplot as plt\n",
    "import matplotlib.style as style\n",
    "\n",
    "exchange_rates = pd.read_csv('euro-daily-hist_1999_2020.csv')"
   ]
  },
  {
   "cell_type": "markdown",
   "id": "9f63e663",
   "metadata": {},
   "source": [
    "## Cleaning and Isolating the Data\n",
    "\n",
    "We're only interested in visualising one currency in this exercise.\n",
    "\n",
    "Therefore, we can:\n",
    "- isolate that currency\n",
    "- clean the reduced dataset"
   ]
  },
  {
   "cell_type": "code",
   "execution_count": 55,
   "id": "ffaee678",
   "metadata": {},
   "outputs": [
    {
     "data": {
      "text/plain": [
       "time        datetime64[ns]\n",
       "uk_pound           float64\n",
       "dtype: object"
      ]
     },
     "execution_count": 55,
     "metadata": {},
     "output_type": "execute_result"
    }
   ],
   "source": [
    "# Rename the two columns we're interested in to something easier to read and type\n",
    "exchange_rates.rename(columns={'[UK pound sterling ]': 'uk_pound', 'Period\\\\Unit:': 'time'}, inplace=True)\n",
    "\n",
    "# Cast the time column as datetime\n",
    "exchange_rates['time'] = pd.to_datetime(exchange_rates['time'])\n",
    "\n",
    "# Sort by time ascending and create a new index\n",
    "exchange_rates.sort_values('time', ignore_index=True, inplace=True)\n",
    "\n",
    "# Isolate the columns we're going to visualise\n",
    "euro_to_pound = exchange_rates[['time', 'uk_pound']]\n",
    "\n",
    "# Remove rows with - in them insted of a conversation rate\n",
    "euro_to_pound_clean = euro_to_pound[euro_to_pound['uk_pound'] != '-']\n",
    "\n",
    "# Case uk_pound as float\n",
    "euro_to_pound_clean.astype({'uk_pound': 'float'}).dtypes\n"
   ]
  },
  {
   "cell_type": "code",
   "execution_count": null,
   "id": "51786a08",
   "metadata": {},
   "outputs": [],
   "source": []
  }
 ],
 "metadata": {
  "kernelspec": {
   "display_name": "jpython",
   "language": "python",
   "name": "jpython"
  },
  "language_info": {
   "codemirror_mode": {
    "name": "ipython",
    "version": 3
   },
   "file_extension": ".py",
   "mimetype": "text/x-python",
   "name": "python",
   "nbconvert_exporter": "python",
   "pygments_lexer": "ipython3",
   "version": "3.9.2"
  }
 },
 "nbformat": 4,
 "nbformat_minor": 5
}
